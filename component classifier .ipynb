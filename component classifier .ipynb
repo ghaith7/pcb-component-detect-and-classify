{
 "cells": [
  {
   "cell_type": "code",
   "execution_count": 21,
   "metadata": {},
   "outputs": [],
   "source": [
    "from tensorflow.keras.preprocessing.image import ImageDataGenerator\n",
    "from tensorflow.keras.layers import MaxPooling2D\n",
    "from tensorflow.keras.layers import Dropout\n",
    "from tensorflow.keras.layers import Flatten\n",
    "from tensorflow.keras.layers import Dense\n",
    "from tensorflow.keras.layers import Conv2D\n",
    "from tensorflow.keras.models import Sequential\n",
    "from tensorflow.keras.optimizers import RMSprop\n",
    "from tensorflow.keras.utils import to_categorical\n",
    "from tensorflow.keras.metrics import Recall\n",
    "from sklearn.model_selection import train_test_split\n",
    "from sklearn.metrics import classification_report\n",
    "import pickle\n",
    "import os\n",
    "import cv2"
   ]
  },
  {
   "cell_type": "markdown",
   "metadata": {},
   "source": [
    "## preprocess DATA"
   ]
  },
  {
   "cell_type": "markdown",
   "metadata": {},
   "source": [
    "### unify image sizes"
   ]
  },
  {
   "cell_type": "code",
   "execution_count": 10,
   "metadata": {},
   "outputs": [],
   "source": [
    "cwd = os.getcwd()\n",
    "datasetpath = os.path.join(cwd,\"dataset\")\n",
    "labels = os.listdir(datasetpath)\n",
    "for l in labels:\n",
    "    directory = os.path.join(datasetpath,l)\n",
    "    images = os.listdir(directory)\n",
    "    images = [i for i in images if images[0]!=\".\"]\n",
    "    for image in images:\n",
    "        image_path = os.path.join(directory,image)\n",
    "        img = cv2.imread(image_path)\n",
    "        if not(type(img)=='NoneType'):\n",
    "            img = cv2.resize(img,(240,240),interpolation=cv2.INTER_CUBIC)\n",
    "            cv2.imwrite(image_path,img)"
   ]
  },
  {
   "cell_type": "markdown",
   "metadata": {},
   "source": [
    "### label encoder"
   ]
  },
  {
   "cell_type": "code",
   "execution_count": 11,
   "metadata": {},
   "outputs": [],
   "source": [
    "idx2label = {}\n",
    "for i in range(0,len(labels)):\n",
    "    idx2label[i]=labels[i]"
   ]
  },
  {
   "cell_type": "code",
   "execution_count": 12,
   "metadata": {},
   "outputs": [],
   "source": [
    "datagen = ImageDataGenerator(rescale=1.0/255.)"
   ]
  },
  {
   "cell_type": "code",
   "execution_count": 13,
   "metadata": {},
   "outputs": [
    {
     "name": "stdout",
     "output_type": "stream",
     "text": [
      "Found 38931 images belonging to 30 classes.\n"
     ]
    }
   ],
   "source": [
    "generator = datagen.flow_from_directory(datasetpath,\n",
    "                                        batch_size=40,\n",
    "                                        class_mode='categorical',\n",
    "                                        target_size=(240, 240))"
   ]
  },
  {
   "cell_type": "markdown",
   "metadata": {},
   "source": [
    "## DEFINE MODEL"
   ]
  },
  {
   "cell_type": "code",
   "execution_count": 28,
   "metadata": {},
   "outputs": [
    {
     "name": "stdout",
     "output_type": "stream",
     "text": [
      "Model: \"sequential_2\"\n",
      "_________________________________________________________________\n",
      " Layer (type)                Output Shape              Param #   \n",
      "=================================================================\n",
      " conv2d_9 (Conv2D)           (None, 240, 240, 16)      64        \n",
      "                                                                 \n",
      " conv2d_10 (Conv2D)          (None, 238, 238, 32)      4640      \n",
      "                                                                 \n",
      " max_pooling2d_7 (MaxPooling  (None, 119, 119, 32)     0         \n",
      " 2D)                                                             \n",
      "                                                                 \n",
      " conv2d_11 (Conv2D)          (None, 117, 117, 32)      9248      \n",
      "                                                                 \n",
      " max_pooling2d_8 (MaxPooling  (None, 58, 58, 32)       0         \n",
      " 2D)                                                             \n",
      "                                                                 \n",
      " conv2d_12 (Conv2D)          (None, 56, 56, 64)        18496     \n",
      "                                                                 \n",
      " max_pooling2d_9 (MaxPooling  (None, 28, 28, 64)       0         \n",
      " 2D)                                                             \n",
      "                                                                 \n",
      " conv2d_13 (Conv2D)          (None, 26, 26, 64)        36928     \n",
      "                                                                 \n",
      " max_pooling2d_10 (MaxPoolin  (None, 13, 13, 64)       0         \n",
      " g2D)                                                            \n",
      "                                                                 \n",
      " flatten_2 (Flatten)         (None, 10816)             0         \n",
      "                                                                 \n",
      " dense_4 (Dense)             (None, 128)               1384576   \n",
      "                                                                 \n",
      " dense_5 (Dense)             (None, 30)                3870      \n",
      "                                                                 \n",
      "=================================================================\n",
      "Total params: 1,457,822\n",
      "Trainable params: 1,457,822\n",
      "Non-trainable params: 0\n",
      "_________________________________________________________________\n"
     ]
    }
   ],
   "source": [
    "model = Sequential([\n",
    "    Conv2D(16, (1, 1), activation='relu', input_shape=(240, 240, 3)),\n",
    "    Conv2D(32, (3, 3), activation='relu'),\n",
    "    MaxPooling2D(2, 2),\n",
    "    Conv2D(32, (3, 3), activation='relu'),\n",
    "    MaxPooling2D(2, 2),\n",
    "    Conv2D(64, (3, 3), activation='relu'),\n",
    "    MaxPooling2D(2, 2),\n",
    "    Conv2D(64, (3, 3), activation='relu'),\n",
    "    MaxPooling2D(2, 2),\n",
    "    Flatten(),\n",
    "    Dense(128, activation='relu'),\n",
    "    Dense(len(labels), activation='softmax')\n",
    "])\n",
    "model.summary()"
   ]
  },
  {
   "cell_type": "markdown",
   "metadata": {},
   "source": [
    "### Compile Model"
   ]
  },
  {
   "cell_type": "code",
   "execution_count": 29,
   "metadata": {},
   "outputs": [],
   "source": [
    "opt = Adam(lr=0.001)\n",
    "model.compile(loss=\"categorical_crossentropy\", optimizer=opt,metrics=[\"accuracy\"])"
   ]
  },
  {
   "cell_type": "markdown",
   "metadata": {},
   "source": [
    "# TRAIN & visualize"
   ]
  },
  {
   "cell_type": "code",
   "execution_count": 30,
   "metadata": {},
   "outputs": [],
   "source": [
    "from keras.callbacks import ModelCheckpoint\n",
    "filepath = \"model_weights_saved.hdf5\"\n",
    "checkpoint = ModelCheckpoint(filepath, monitor='loss', verbose=1, save_best_only=True, mode='min')\n",
    "desired_callbacks = [checkpoint]"
   ]
  },
  {
   "cell_type": "code",
   "execution_count": 31,
   "metadata": {
    "scrolled": true
   },
   "outputs": [
    {
     "name": "stdout",
     "output_type": "stream",
     "text": [
      "Epoch 1/20\n",
      "974/974 [==============================] - ETA: 0s - loss: 1.1148 - accuracy: 0.6841\n",
      "Epoch 00001: loss improved from inf to 1.11482, saving model to model_weights_saved.hdf5\n",
      "974/974 [==============================] - 198s 203ms/step - loss: 1.1148 - accuracy: 0.6841\n",
      "Epoch 2/20\n",
      "974/974 [==============================] - ETA: 0s - loss: 0.6617 - accuracy: 0.8004\n",
      "Epoch 00002: loss improved from 1.11482 to 0.66165, saving model to model_weights_saved.hdf5\n",
      "974/974 [==============================] - 201s 206ms/step - loss: 0.6617 - accuracy: 0.8004\n",
      "Epoch 3/20\n",
      "974/974 [==============================] - ETA: 0s - loss: 0.4878 - accuracy: 0.8461\n",
      "Epoch 00003: loss improved from 0.66165 to 0.48778, saving model to model_weights_saved.hdf5\n",
      "974/974 [==============================] - 205s 210ms/step - loss: 0.4878 - accuracy: 0.8461\n",
      "Epoch 4/20\n",
      "974/974 [==============================] - ETA: 0s - loss: 0.3795 - accuracy: 0.8783\n",
      "Epoch 00004: loss improved from 0.48778 to 0.37951, saving model to model_weights_saved.hdf5\n",
      "974/974 [==============================] - 211s 217ms/step - loss: 0.3795 - accuracy: 0.8783\n",
      "Epoch 5/20\n",
      "974/974 [==============================] - ETA: 0s - loss: 0.2908 - accuracy: 0.9069\n",
      "Epoch 00005: loss improved from 0.37951 to 0.29084, saving model to model_weights_saved.hdf5\n",
      "974/974 [==============================] - 201s 206ms/step - loss: 0.2908 - accuracy: 0.9069\n",
      "Epoch 6/20\n",
      "974/974 [==============================] - ETA: 0s - loss: 0.2365 - accuracy: 0.9240\n",
      "Epoch 00006: loss improved from 0.29084 to 0.23650, saving model to model_weights_saved.hdf5\n",
      "974/974 [==============================] - 200s 205ms/step - loss: 0.2365 - accuracy: 0.9240\n",
      "Epoch 7/20\n",
      "974/974 [==============================] - ETA: 0s - loss: 0.1871 - accuracy: 0.9374\n",
      "Epoch 00007: loss improved from 0.23650 to 0.18713, saving model to model_weights_saved.hdf5\n",
      "974/974 [==============================] - 202s 207ms/step - loss: 0.1871 - accuracy: 0.9374\n",
      "Epoch 8/20\n",
      "974/974 [==============================] - ETA: 0s - loss: 0.1622 - accuracy: 0.9477\n",
      "Epoch 00008: loss improved from 0.18713 to 0.16216, saving model to model_weights_saved.hdf5\n",
      "974/974 [==============================] - 201s 206ms/step - loss: 0.1622 - accuracy: 0.9477\n",
      "Epoch 9/20\n",
      "974/974 [==============================] - ETA: 0s - loss: 0.1366 - accuracy: 0.9569\n",
      "Epoch 00009: loss improved from 0.16216 to 0.13663, saving model to model_weights_saved.hdf5\n",
      "974/974 [==============================] - 202s 207ms/step - loss: 0.1366 - accuracy: 0.9569\n",
      "Epoch 10/20\n",
      "974/974 [==============================] - ETA: 0s - loss: 0.1186 - accuracy: 0.9620\n",
      "Epoch 00010: loss improved from 0.13663 to 0.11855, saving model to model_weights_saved.hdf5\n",
      "974/974 [==============================] - 202s 207ms/step - loss: 0.1186 - accuracy: 0.9620\n",
      "Epoch 11/20\n",
      "974/974 [==============================] - ETA: 0s - loss: 0.1050 - accuracy: 0.9672\n",
      "Epoch 00011: loss improved from 0.11855 to 0.10500, saving model to model_weights_saved.hdf5\n",
      "974/974 [==============================] - 202s 207ms/step - loss: 0.1050 - accuracy: 0.9672\n",
      "Epoch 12/20\n",
      "974/974 [==============================] - ETA: 0s - loss: 0.1006 - accuracy: 0.9688\n",
      "Epoch 00012: loss improved from 0.10500 to 0.10062, saving model to model_weights_saved.hdf5\n",
      "974/974 [==============================] - 202s 207ms/step - loss: 0.1006 - accuracy: 0.9688\n",
      "Epoch 13/20\n",
      "974/974 [==============================] - ETA: 0s - loss: 0.0844 - accuracy: 0.9740\n",
      "Epoch 00013: loss improved from 0.10062 to 0.08441, saving model to model_weights_saved.hdf5\n",
      "974/974 [==============================] - 203s 208ms/step - loss: 0.0844 - accuracy: 0.9740\n",
      "Epoch 14/20\n",
      "974/974 [==============================] - ETA: 0s - loss: 0.0884 - accuracy: 0.9731\n",
      "Epoch 00014: loss did not improve from 0.08441\n",
      "974/974 [==============================] - 205s 210ms/step - loss: 0.0884 - accuracy: 0.9731\n",
      "Epoch 15/20\n",
      "974/974 [==============================] - ETA: 0s - loss: 0.0757 - accuracy: 0.9770\n",
      "Epoch 00015: loss improved from 0.08441 to 0.07568, saving model to model_weights_saved.hdf5\n",
      "974/974 [==============================] - 205s 210ms/step - loss: 0.0757 - accuracy: 0.9770\n",
      "Epoch 16/20\n",
      "974/974 [==============================] - ETA: 0s - loss: 0.0727 - accuracy: 0.9773 ETA: 1s - loss: 0.0726 - \n",
      "Epoch 00016: loss improved from 0.07568 to 0.07270, saving model to model_weights_saved.hdf5\n",
      "974/974 [==============================] - 203s 209ms/step - loss: 0.0727 - accuracy: 0.9773\n",
      "Epoch 17/20\n",
      "974/974 [==============================] - ETA: 0s - loss: 0.0680 - accuracy: 0.9799\n",
      "Epoch 00017: loss improved from 0.07270 to 0.06804, saving model to model_weights_saved.hdf5\n",
      "974/974 [==============================] - 203s 208ms/step - loss: 0.0680 - accuracy: 0.9799\n",
      "Epoch 18/20\n",
      "974/974 [==============================] - ETA: 0s - loss: 0.0638 - accuracy: 0.9816\n",
      "Epoch 00018: loss improved from 0.06804 to 0.06379, saving model to model_weights_saved.hdf5\n",
      "974/974 [==============================] - 209s 214ms/step - loss: 0.0638 - accuracy: 0.9816\n",
      "Epoch 19/20\n",
      "974/974 [==============================] - ETA: 0s - loss: 0.0644 - accuracy: 0.9809\n",
      "Epoch 00019: loss did not improve from 0.06379\n",
      "974/974 [==============================] - 219s 225ms/step - loss: 0.0644 - accuracy: 0.9809\n",
      "Epoch 20/20\n",
      "974/974 [==============================] - ETA: 0s - loss: 0.0638 - accuracy: 0.9812\n",
      "Epoch 00020: loss improved from 0.06379 to 0.06375, saving model to model_weights_saved.hdf5\n",
      "974/974 [==============================] - 217s 223ms/step - loss: 0.0638 - accuracy: 0.9812\n"
     ]
    }
   ],
   "source": [
    "history = model.fit(generator,\n",
    "                    epochs=20,\n",
    "                    verbose=1,\n",
    "                    callbacks=desired_callbacks)"
   ]
  },
  {
   "cell_type": "code",
   "execution_count": 35,
   "metadata": {},
   "outputs": [],
   "source": [
    "import matplotlib.pyplot as plt"
   ]
  },
  {
   "cell_type": "code",
   "execution_count": 37,
   "metadata": {},
   "outputs": [
    {
     "data": {
      "text/plain": [
       "<Figure size 432x288 with 0 Axes>"
      ]
     },
     "execution_count": 37,
     "metadata": {},
     "output_type": "execute_result"
    },
    {
     "data": {
      "image/png": "[encoded data removed]",
      "text/plain": [
       "<Figure size 432x288 with 1 Axes>"
      ]
     },
     "metadata": {
      "needs_background": "light"
     },
     "output_type": "display_data"
    },
    {
     "data": {
      "text/plain": [
       "<Figure size 432x288 with 0 Axes>"
      ]
     },
     "metadata": {},
     "output_type": "display_data"
    }
   ],
   "source": [
    "acc=history.history['accuracy']\n",
    "loss=history.history['loss']\n",
    "epochs=range(len(acc)) \n",
    "plt.plot(epochs, acc, 'r', \"Training Accuracy\")\n",
    "plt.plot(epochs, loss, 'r', \"Training Loss\")\n",
    "plt.figure()"
   ]
  },
  {
   "cell_type": "markdown",
   "metadata": {},
   "source": [
    "## save Model"
   ]
  },
  {
   "cell_type": "code",
   "execution_count": 38,
   "metadata": {},
   "outputs": [
    {
     "data": {
      "text/plain": [
       "{0: 'battery',\n",
       " 1: 'button',\n",
       " 2: 'buzzer',\n",
       " 3: 'capacitor',\n",
       " 4: 'clock',\n",
       " 5: 'component',\n",
       " 6: 'connector',\n",
       " 7: 'diode',\n",
       " 8: 'display',\n",
       " 9: 'electrolytic',\n",
       " 10: 'emi',\n",
       " 11: 'ferrite',\n",
       " 12: 'fuse',\n",
       " 13: 'heatsink',\n",
       " 14: 'ic',\n",
       " 15: 'inductor',\n",
       " 16: 'jumper',\n",
       " 17: 'led',\n",
       " 18: 'not_component',\n",
       " 19: 'pads',\n",
       " 20: 'pins',\n",
       " 21: 'potentiometer',\n",
       " 22: 'resistor',\n",
       " 23: 'switch',\n",
       " 24: 'test',\n",
       " 25: 'text',\n",
       " 26: 'transformer',\n",
       " 27: 'transistor',\n",
       " 28: 'unknown',\n",
       " 29: 'zener'}"
      ]
     },
     "execution_count": 38,
     "metadata": {},
     "output_type": "execute_result"
    }
   ],
   "source": [
    "idx2label"
   ]
  },
  {
   "cell_type": "code",
   "execution_count": 40,
   "metadata": {},
   "outputs": [],
   "source": [
    "MODEL_PATH = os.path.join(cwd,\"component_classifier.h5\")\n",
    "ENCODER_PATH = os.path.join(cwd,\"label_encoder.pickle\")"
   ]
  },
  {
   "cell_type": "code",
   "execution_count": 41,
   "metadata": {},
   "outputs": [],
   "source": [
    "model.save(MODEL_PATH, save_format=\"h5\")\n",
    "f = open(ENCODER_PATH, \"wb\")\n",
    "f.write(pickle.dumps(idx2label))\n",
    "f.close()"
   ]
  },
  {
   "cell_type": "code",
   "execution_count": null,
   "metadata": {},
   "outputs": [],
   "source": []
  }
 ],
 "metadata": {
  "kernelspec": {
   "display_name": "Python 3 (ipykernel)",
   "language": "python",
   "name": "python3"
  },
  "language_info": {
   "codemirror_mode": {
    "name": "ipython",
    "version": 3
   },
   "file_extension": ".py",
   "mimetype": "text/x-python",
   "name": "python",
   "nbconvert_exporter": "python",
   "pygments_lexer": "ipython3",
   "version": "3.9.12"
  }
 },
 "nbformat": 4,
 "nbformat_minor": 2
}
